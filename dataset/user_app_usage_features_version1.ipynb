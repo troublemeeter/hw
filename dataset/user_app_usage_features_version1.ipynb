{
 "cells": [
  {
   "cell_type": "code",
   "execution_count": 1,
   "metadata": {},
   "outputs": [],
   "source": [
    "import csv\n",
    "import numpy as np\n",
    "import os\n",
    "import pandas as pd\n",
    "import math"
   ]
  },
  {
   "cell_type": "code",
   "execution_count": 3,
   "metadata": {},
   "outputs": [
    {
     "name": "stdout",
     "output_type": "stream",
     "text": [
      "<class 'pandas.core.frame.DataFrame'>\n",
      "RangeIndex: 651007719 entries, 0 to 651007718\n",
      "Data columns (total 1 columns):\n",
      "1    object\n",
      "dtypes: object(1)\n",
      "memory usage: 4.9+ GB\n"
     ]
    }
   ],
   "source": [
    "user_app_usage_appId = pd.read_csv('user_app_usage.csv', header=None, usecols=[1])\n",
    "user_app_usage_appId.info()"
   ]
  },
  {
   "cell_type": "code",
   "execution_count": 4,
   "metadata": {},
   "outputs": [
    {
     "data": {
      "text/html": [
       "<div>\n",
       "<style scoped>\n",
       "    .dataframe tbody tr th:only-of-type {\n",
       "        vertical-align: middle;\n",
       "    }\n",
       "\n",
       "    .dataframe tbody tr th {\n",
       "        vertical-align: top;\n",
       "    }\n",
       "\n",
       "    .dataframe thead th {\n",
       "        text-align: right;\n",
       "    }\n",
       "</style>\n",
       "<table border=\"1\" class=\"dataframe\">\n",
       "  <thead>\n",
       "    <tr style=\"text-align: right;\">\n",
       "      <th></th>\n",
       "      <th>1</th>\n",
       "    </tr>\n",
       "  </thead>\n",
       "  <tbody>\n",
       "    <tr>\n",
       "      <th>0</th>\n",
       "      <td>a00289850</td>\n",
       "    </tr>\n",
       "    <tr>\n",
       "      <th>1</th>\n",
       "      <td>a00287085</td>\n",
       "    </tr>\n",
       "    <tr>\n",
       "      <th>2</th>\n",
       "      <td>a00289826</td>\n",
       "    </tr>\n",
       "    <tr>\n",
       "      <th>3</th>\n",
       "      <td>a00287085</td>\n",
       "    </tr>\n",
       "    <tr>\n",
       "      <th>4</th>\n",
       "      <td>a00278858</td>\n",
       "    </tr>\n",
       "  </tbody>\n",
       "</table>\n",
       "</div>"
      ],
      "text/plain": [
       "           1\n",
       "0  a00289850\n",
       "1  a00287085\n",
       "2  a00289826\n",
       "3  a00287085\n",
       "4  a00278858"
      ]
     },
     "execution_count": 4,
     "metadata": {},
     "output_type": "execute_result"
    }
   ],
   "source": [
    "user_app_usage_appId.head()"
   ]
  },
  {
   "cell_type": "code",
   "execution_count": 17,
   "metadata": {},
   "outputs": [],
   "source": [
    "user_app_usage_appId_counts = user_app_usage_appId[1].value_counts()"
   ]
  },
  {
   "cell_type": "code",
   "execution_count": 21,
   "metadata": {},
   "outputs": [],
   "source": [
    "user_app_usage_appId_sorted = user_app_usage_appId_counts.sort_values(ascending=False)"
   ]
  },
  {
   "cell_type": "code",
   "execution_count": 22,
   "metadata": {},
   "outputs": [],
   "source": [
    "user_app_usage_appId_top100 = user_app_usage_appId_sorted[0:100]"
   ]
  },
  {
   "cell_type": "code",
   "execution_count": 23,
   "metadata": {
    "collapsed": true
   },
   "outputs": [
    {
     "name": "stdout",
     "output_type": "stream",
     "text": [
      "a00289791    49079610\n",
      "a00103666    31515334\n",
      "a00289826    28448010\n",
      "a00287085    24253429\n",
      "a00278905    13248005\n",
      "a0048562     13073043\n",
      "a00289850    12223354\n",
      "a0046242     11453925\n",
      "a00170432    11102231\n",
      "a00278858     9236933\n",
      "a00290015     8831052\n",
      "a0030644      8050605\n",
      "a00247519     7742879\n",
      "a00271087     7715735\n",
      "a0048332      7486823\n",
      "a00109386     7074295\n",
      "a00289866     6744088\n",
      "a00292780     6172634\n",
      "a00224427     6036913\n",
      "a00290027     5674584\n",
      "a00187480     5519001\n",
      "a00261220     5481572\n",
      "a0021880      5381422\n",
      "a00274701     4913313\n",
      "a00348507     4575315\n",
      "a00292472     4408465\n",
      "a00336224     4224160\n",
      "a00289511     3936880\n",
      "a0022276      3902781\n",
      "a0071100      3610707\n",
      "               ...   \n",
      "a0032847      1397587\n",
      "a00169965     1364477\n",
      "a0075197      1337470\n",
      "a00294247     1309385\n",
      "a00331594     1272084\n",
      "a00278867     1265099\n",
      "a00278912     1231270\n",
      "a00160089     1228474\n",
      "a00261226     1226551\n",
      "a00219676     1062279\n",
      "a0049622      1061607\n",
      "a0082007      1055791\n",
      "a00239261     1052762\n",
      "a0048452      1026843\n",
      "a00348136     1024978\n",
      "a00248909     1016495\n",
      "a00287071     1016219\n",
      "a00135785      972743\n",
      "a00235015      954605\n",
      "a00287090      923980\n",
      "a00101827      912588\n",
      "a00289466      906708\n",
      "a00225310      864158\n",
      "a00153189      851111\n",
      "a0029508       827519\n",
      "a0017114       824349\n",
      "a00294240      800741\n",
      "a00158371      798113\n",
      "a00290067      779299\n",
      "a00225081      775466\n",
      "Name: 1, Length: 100, dtype: int64\n"
     ]
    }
   ],
   "source": [
    "print(user_app_usage_appId_top100)"
   ]
  },
  {
   "cell_type": "code",
   "execution_count": 33,
   "metadata": {
    "collapsed": true
   },
   "outputs": [
    {
     "data": {
      "text/plain": [
       "<matplotlib.axes._subplots.AxesSubplot at 0x7f9f67275ac8>"
      ]
     },
     "execution_count": 33,
     "metadata": {},
     "output_type": "execute_result"
    },
    {
     "data": {
      "image/png": "[encoded data removed]",
      "text/plain": [
       "<Figure size 432x288 with 1 Axes>"
      ]
     },
     "metadata": {},
     "output_type": "display_data"
    }
   ],
   "source": [
    "user_app_usage_appId_sorted[0:100].plot(kind='line', grid=True, label='S1',title='This is Series', style='--')"
   ]
  },
  {
   "cell_type": "code",
   "execution_count": 39,
   "metadata": {
    "scrolled": true
   },
   "outputs": [
    {
     "data": {
      "text/plain": [
       "<matplotlib.axes._subplots.AxesSubplot at 0x7f9f67e7f0b8>"
      ]
     },
     "execution_count": 39,
     "metadata": {},
     "output_type": "execute_result"
    },
    {
     "data": {
      "image/png": "[encoded data removed]",
      "text/plain": [
       "<Figure size 432x288 with 1 Axes>"
      ]
     },
     "metadata": {},
     "output_type": "display_data"
    }
   ],
   "source": [
    "user_app_usage_appId_sorted[0:1000].apply(lambda x: math.log10(x)).plot(kind='line', grid=True, label='S1',title='This is Series', style='--')"
   ]
  },
  {
   "cell_type": "code",
   "execution_count": 53,
   "metadata": {
    "scrolled": true
   },
   "outputs": [
    {
     "name": "stdout",
     "output_type": "stream",
     "text": [
      "['a00289791', 'a00103666', 'a00289826', 'a00287085', 'a00278905', 'a0048562', 'a00289850', 'a0046242', 'a00170432', 'a00278858', 'a00290015', 'a0030644', 'a00247519', 'a00271087', 'a0048332', 'a00109386', 'a00289866', 'a00292780', 'a00224427', 'a00290027', 'a00187480', 'a00261220', 'a0021880', 'a00274701', 'a00348507', 'a00292472', 'a00336224', 'a00289511', 'a0022276', 'a0071100', 'a00311680', 'a00481059', 'a0036392', 'a00275200', 'a00278849', 'a00157201', 'a00244790', 'a00263057', 'a00289519', 'a00331160', 'a00287057', 'a0048522', 'a009932', 'a00307756', 'a0048467', 'a00217423', 'a00363352', 'a00166554', 'a00299200', 'a0027551', 'a003925', 'a0092898', 'a0064339', 'a00144187', 'a0048637', 'a00461814', 'a00271777', 'a00373197', 'a00157220', 'a00289728', 'a00141402', 'a0071095', 'a00276196', 'a00290038', 'a0082383', 'a00324307', 'a00299316', 'a0099559', 'a00336168', 'a00281804', 'a0032847', 'a00169965', 'a0075197', 'a00294247', 'a00331594', 'a00278867', 'a00278912', 'a00160089', 'a00261226', 'a00219676', 'a0049622', 'a0082007', 'a00239261', 'a0048452', 'a00348136', 'a00248909', 'a00287071', 'a00135785', 'a00235015', 'a00287090', 'a00101827', 'a00289466', 'a00225310', 'a00153189', 'a0029508', 'a0017114', 'a00294240', 'a00158371', 'a00290067', 'a00225081']\n"
     ]
    }
   ],
   "source": [
    "top100List = list(user_app_usage_appId_top100.index)\n",
    "print(top100List)"
   ]
  },
  {
   "cell_type": "code",
   "execution_count": 10,
   "metadata": {},
   "outputs": [],
   "source": [
    "top100List = ['a00289791', 'a00103666', 'a00289826', 'a00287085', 'a00278905', 'a0048562', 'a00289850', 'a0046242', 'a00170432', 'a00278858', 'a00290015', 'a0030644', 'a00247519', 'a00271087', 'a0048332', 'a00109386', 'a00289866', 'a00292780', 'a00224427', 'a00290027', 'a00187480', 'a00261220', 'a0021880', 'a00274701', 'a00348507', 'a00292472', 'a00336224', 'a00289511', 'a0022276', 'a0071100', 'a00311680', 'a00481059', 'a0036392', 'a00275200', 'a00278849', 'a00157201', 'a00244790', 'a00263057', 'a00289519', 'a00331160', 'a00287057', 'a0048522', 'a009932', 'a00307756', 'a0048467', 'a00217423', 'a00363352', 'a00166554', 'a00299200', 'a0027551', 'a003925', 'a0092898', 'a0064339', 'a00144187', 'a0048637', 'a00461814', 'a00271777', 'a00373197', 'a00157220', 'a00289728', 'a00141402', 'a0071095', 'a00276196', 'a00290038', 'a0082383', 'a00324307', 'a00299316', 'a0099559', 'a00336168', 'a00281804', 'a0032847', 'a00169965', 'a0075197', 'a00294247', 'a00331594', 'a00278867', 'a00278912', 'a00160089', 'a00261226', 'a00219676', 'a0049622', 'a0082007', 'a00239261', 'a0048452', 'a00348136', 'a00248909', 'a00287071', 'a00135785', 'a00235015', 'a00287090', 'a00101827', 'a00289466', 'a00225310', 'a00153189', 'a0029508', 'a0017114', 'a00294240', 'a00158371', 'a00290067', 'a00225081']"
   ]
  },
  {
   "cell_type": "code",
   "execution_count": 2,
   "metadata": {},
   "outputs": [],
   "source": [
    "weekends = ['2019-03-02','2019-03-03','2019-03-09','2019-03-10','2019-03-16','2019-03-17','2019-03-23','2019-03-24']\n",
    "user_app_usage = pd.read_csv('user_app_usage.csv',header=None,chunksize=5000000)\n",
    "user_app_usage.columns = ['uId','appId','duration','times','use_date']"
   ]
  },
  {
   "cell_type": "code",
   "execution_count": 7,
   "metadata": {},
   "outputs": [
    {
     "data": {
      "text/html": [
       "<div>\n",
       "<style scoped>\n",
       "    .dataframe tbody tr th:only-of-type {\n",
       "        vertical-align: middle;\n",
       "    }\n",
       "\n",
       "    .dataframe tbody tr th {\n",
       "        vertical-align: top;\n",
       "    }\n",
       "\n",
       "    .dataframe thead th {\n",
       "        text-align: right;\n",
       "    }\n",
       "</style>\n",
       "<table border=\"1\" class=\"dataframe\">\n",
       "  <thead>\n",
       "    <tr style=\"text-align: right;\">\n",
       "      <th></th>\n",
       "      <th>uId</th>\n",
       "      <th>appId</th>\n",
       "      <th>duration</th>\n",
       "      <th>times</th>\n",
       "      <th>use_date</th>\n",
       "    </tr>\n",
       "  </thead>\n",
       "  <tbody>\n",
       "    <tr>\n",
       "      <th>5000000</th>\n",
       "      <td>2752990</td>\n",
       "      <td>a0048567</td>\n",
       "      <td>31.0</td>\n",
       "      <td>4.0</td>\n",
       "      <td>2019-03-21</td>\n",
       "    </tr>\n",
       "    <tr>\n",
       "      <th>5000001</th>\n",
       "      <td>2752990</td>\n",
       "      <td>a00289511</td>\n",
       "      <td>119.0</td>\n",
       "      <td>22.0</td>\n",
       "      <td>2019-03-09</td>\n",
       "    </tr>\n",
       "    <tr>\n",
       "      <th>5000002</th>\n",
       "      <td>2752990</td>\n",
       "      <td>a00289791</td>\n",
       "      <td>428.0</td>\n",
       "      <td>38.0</td>\n",
       "      <td>2019-03-16</td>\n",
       "    </tr>\n",
       "    <tr>\n",
       "      <th>5000003</th>\n",
       "      <td>2752990</td>\n",
       "      <td>a00289791</td>\n",
       "      <td>362.0</td>\n",
       "      <td>47.0</td>\n",
       "      <td>2019-03-24</td>\n",
       "    </tr>\n",
       "    <tr>\n",
       "      <th>5000004</th>\n",
       "      <td>2752990</td>\n",
       "      <td>a00336224</td>\n",
       "      <td>578.0</td>\n",
       "      <td>52.0</td>\n",
       "      <td>2019-03-15</td>\n",
       "    </tr>\n",
       "  </tbody>\n",
       "</table>\n",
       "</div>"
      ],
      "text/plain": [
       "             uId      appId  duration  times    use_date\n",
       "5000000  2752990   a0048567      31.0    4.0  2019-03-21\n",
       "5000001  2752990  a00289511     119.0   22.0  2019-03-09\n",
       "5000002  2752990  a00289791     428.0   38.0  2019-03-16\n",
       "5000003  2752990  a00289791     362.0   47.0  2019-03-24\n",
       "5000004  2752990  a00336224     578.0   52.0  2019-03-15"
      ]
     },
     "execution_count": 7,
     "metadata": {},
     "output_type": "execute_result"
    }
   ],
   "source": [
    "for each in user_app_usage:\n",
    "    break\n",
    "each.columns = ['uId','appId','duration','times','use_date']\n",
    "each.head()"
   ]
  },
  {
   "cell_type": "code",
   "execution_count": 3,
   "metadata": {},
   "outputs": [],
   "source": [
    "def merge_by_date(each):\n",
    "    def f(df):\n",
    "        duration = df['duration']\n",
    "        app = df['appId']\n",
    "        times = df['times']\n",
    "        date = df['use_date']\n",
    "        weekdayDuration = [ 0 for x in range(100) ]\n",
    "        weekdayTimes = [ 0 for x in range(100) ]\n",
    "        weekendDuration = [ 0 for x in range(100) ]\n",
    "        weekendTimes = [ 0 for x in range(100) ]        \n",
    "        for a,t,du,da in zip(app,times,duration,date):\n",
    "            if a in top100List:\n",
    "                index = top100List.index(a)\n",
    "                if da in weekends:\n",
    "                    weekendTimes[index] += t\n",
    "                    weekendDuration[index] += du\n",
    "                else:\n",
    "                    weekdayTimes[index] += t\n",
    "                    weekdayDuration[index] += du                \n",
    "    #     df = pd.Series(data)\n",
    "        weekD =  sum(weekdayDuration)\n",
    "        weekendD = sum(weekendDuration)\n",
    "        weekT = sum(weekdayTimes)\n",
    "        weekendT = sum(weekendTimes)\n",
    "        if( weekD==0 or weekendD==0 or weekT==0 or weekendT==0 ):\n",
    "            return [0]\n",
    "        rate1 = weekD/weekendD\n",
    "        rate2 = weekT/weekendT\n",
    "        return weekdayDuration + weekendDuration + [weekD]+[weekendD]+[rate1] + weekdayTimes + weekendTimes + [weekT]+[weekendT]+[rate2]\n",
    "    temp = each.groupby(['uId']).apply(f)\n",
    "    #temp.index.names = ['']\n",
    "    #df_temp = temp.unstack()\n",
    "    return temp"
   ]
  },
  {
   "cell_type": "code",
   "execution_count": 8,
   "metadata": {},
   "outputs": [
    {
     "name": "stdout",
     "output_type": "stream",
     "text": [
      "407\n"
     ]
    }
   ],
   "source": [
    "cols = ['uId']\n",
    "cols += ['weekdayDuration_'+str(i) for i in range(100)]+['weekendDuration_'+str(i) for i in range(100)]\n",
    "cols += ['weekdayDurationSum']+['weekendDurationSum']+['rate1']\n",
    "cols+= ['weekdayTimes_'+str(i) for i in range(100)] + ['weekendTimes_'+str(i) for i in range(100)]\n",
    "cols += ['weekdayTimesSum']+['weekendTimesSum']+['rate2']\n",
    "print(len(cols))"
   ]
  },
  {
   "cell_type": "code",
   "execution_count": 40,
   "metadata": {},
   "outputs": [],
   "source": [
    "RESULT = []\n",
    "for each in user_app_usage:\n",
    "    each.columns = ['uId','appId','duration','times','use_date']\n",
    "    new_one = merge_by_date(each)    \n",
    "    #print(new_one)\n",
    "    #print(type(new_one))    \n",
    "    new_one.drop(list(new_one.index)[0], axis=0, inplace=True)\n",
    "    new_one.drop(list(new_one.index)[-1], axis=0, inplace=True)\n",
    "    temp = pd.DataFrame(list(new_one.values))\n",
    "    temp.index = new_one.index\n",
    "    temp.index.name = '' \n",
    "    RESULT.append(temp)\n",
    "#     break\n",
    "\n",
    "for each in RESULT:\n",
    "    each.columns = cols[1:]\n",
    "user_app_usage_features = pd.concat(RESULT)"
   ]
  },
  {
   "cell_type": "code",
   "execution_count": 44,
   "metadata": {},
   "outputs": [
    {
     "data": {
      "text/html": [
       "<div>\n",
       "<style scoped>\n",
       "    .dataframe tbody tr th:only-of-type {\n",
       "        vertical-align: middle;\n",
       "    }\n",
       "\n",
       "    .dataframe tbody tr th {\n",
       "        vertical-align: top;\n",
       "    }\n",
       "\n",
       "    .dataframe thead th {\n",
       "        text-align: right;\n",
       "    }\n",
       "</style>\n",
       "<table border=\"1\" class=\"dataframe\">\n",
       "  <thead>\n",
       "    <tr style=\"text-align: right;\">\n",
       "      <th></th>\n",
       "      <th>weekdayDuration_0</th>\n",
       "      <th>weekdayDuration_1</th>\n",
       "      <th>weekdayDuration_2</th>\n",
       "      <th>weekdayDuration_3</th>\n",
       "      <th>weekdayDuration_4</th>\n",
       "      <th>weekdayDuration_5</th>\n",
       "      <th>weekdayDuration_6</th>\n",
       "      <th>weekdayDuration_7</th>\n",
       "      <th>weekdayDuration_8</th>\n",
       "      <th>weekdayDuration_9</th>\n",
       "      <th>...</th>\n",
       "      <th>weekendTimes_93</th>\n",
       "      <th>weekendTimes_94</th>\n",
       "      <th>weekendTimes_95</th>\n",
       "      <th>weekendTimes_96</th>\n",
       "      <th>weekendTimes_97</th>\n",
       "      <th>weekendTimes_98</th>\n",
       "      <th>weekendTimes_99</th>\n",
       "      <th>weekdayTimesSum</th>\n",
       "      <th>weekendTimesSum</th>\n",
       "      <th>rate2</th>\n",
       "    </tr>\n",
       "    <tr>\n",
       "      <th></th>\n",
       "      <th></th>\n",
       "      <th></th>\n",
       "      <th></th>\n",
       "      <th></th>\n",
       "      <th></th>\n",
       "      <th></th>\n",
       "      <th></th>\n",
       "      <th></th>\n",
       "      <th></th>\n",
       "      <th></th>\n",
       "      <th></th>\n",
       "      <th></th>\n",
       "      <th></th>\n",
       "      <th></th>\n",
       "      <th></th>\n",
       "      <th></th>\n",
       "      <th></th>\n",
       "      <th></th>\n",
       "      <th></th>\n",
       "      <th></th>\n",
       "      <th></th>\n",
       "    </tr>\n",
       "  </thead>\n",
       "  <tbody>\n",
       "    <tr>\n",
       "      <th>1000129</th>\n",
       "      <td>17276.0</td>\n",
       "      <td>1420.0</td>\n",
       "      <td>1541.0</td>\n",
       "      <td>3493.0</td>\n",
       "      <td>2587.0</td>\n",
       "      <td>0.0</td>\n",
       "      <td>171.0</td>\n",
       "      <td>10063.0</td>\n",
       "      <td>914.0</td>\n",
       "      <td>0.0</td>\n",
       "      <td>...</td>\n",
       "      <td>0.0</td>\n",
       "      <td>0.0</td>\n",
       "      <td>0.0</td>\n",
       "      <td>0.0</td>\n",
       "      <td>0.0</td>\n",
       "      <td>0.0</td>\n",
       "      <td>0.0</td>\n",
       "      <td>7752.0</td>\n",
       "      <td>2279.0</td>\n",
       "      <td>3.401492</td>\n",
       "    </tr>\n",
       "    <tr>\n",
       "      <th>1000512</th>\n",
       "      <td>90586.0</td>\n",
       "      <td>0.0</td>\n",
       "      <td>4511.0</td>\n",
       "      <td>0.0</td>\n",
       "      <td>0.0</td>\n",
       "      <td>0.0</td>\n",
       "      <td>0.0</td>\n",
       "      <td>0.0</td>\n",
       "      <td>0.0</td>\n",
       "      <td>0.0</td>\n",
       "      <td>...</td>\n",
       "      <td>0.0</td>\n",
       "      <td>0.0</td>\n",
       "      <td>0.0</td>\n",
       "      <td>0.0</td>\n",
       "      <td>0.0</td>\n",
       "      <td>0.0</td>\n",
       "      <td>0.0</td>\n",
       "      <td>15691.0</td>\n",
       "      <td>6158.0</td>\n",
       "      <td>2.548068</td>\n",
       "    </tr>\n",
       "    <tr>\n",
       "      <th>1000581</th>\n",
       "      <td>66087.0</td>\n",
       "      <td>1752.0</td>\n",
       "      <td>192.0</td>\n",
       "      <td>0.0</td>\n",
       "      <td>0.0</td>\n",
       "      <td>0.0</td>\n",
       "      <td>0.0</td>\n",
       "      <td>4.0</td>\n",
       "      <td>38123.0</td>\n",
       "      <td>0.0</td>\n",
       "      <td>...</td>\n",
       "      <td>0.0</td>\n",
       "      <td>0.0</td>\n",
       "      <td>0.0</td>\n",
       "      <td>0.0</td>\n",
       "      <td>0.0</td>\n",
       "      <td>0.0</td>\n",
       "      <td>0.0</td>\n",
       "      <td>12702.0</td>\n",
       "      <td>5395.0</td>\n",
       "      <td>2.354402</td>\n",
       "    </tr>\n",
       "    <tr>\n",
       "      <th>1000605</th>\n",
       "      <td>275978.0</td>\n",
       "      <td>967.0</td>\n",
       "      <td>2873.0</td>\n",
       "      <td>2077.0</td>\n",
       "      <td>0.0</td>\n",
       "      <td>80812.0</td>\n",
       "      <td>4924.0</td>\n",
       "      <td>6598.0</td>\n",
       "      <td>17.0</td>\n",
       "      <td>0.0</td>\n",
       "      <td>...</td>\n",
       "      <td>0.0</td>\n",
       "      <td>0.0</td>\n",
       "      <td>0.0</td>\n",
       "      <td>0.0</td>\n",
       "      <td>0.0</td>\n",
       "      <td>0.0</td>\n",
       "      <td>0.0</td>\n",
       "      <td>33160.0</td>\n",
       "      <td>10347.0</td>\n",
       "      <td>3.204794</td>\n",
       "    </tr>\n",
       "    <tr>\n",
       "      <th>1000699</th>\n",
       "      <td>123504.0</td>\n",
       "      <td>11065.0</td>\n",
       "      <td>60561.0</td>\n",
       "      <td>136.0</td>\n",
       "      <td>27652.0</td>\n",
       "      <td>18913.0</td>\n",
       "      <td>0.0</td>\n",
       "      <td>13663.0</td>\n",
       "      <td>20.0</td>\n",
       "      <td>0.0</td>\n",
       "      <td>...</td>\n",
       "      <td>15.0</td>\n",
       "      <td>0.0</td>\n",
       "      <td>0.0</td>\n",
       "      <td>0.0</td>\n",
       "      <td>0.0</td>\n",
       "      <td>0.0</td>\n",
       "      <td>0.0</td>\n",
       "      <td>26263.0</td>\n",
       "      <td>7848.0</td>\n",
       "      <td>3.346458</td>\n",
       "    </tr>\n",
       "  </tbody>\n",
       "</table>\n",
       "<p>5 rows × 406 columns</p>\n",
       "</div>"
      ],
      "text/plain": [
       "         weekdayDuration_0  weekdayDuration_1  weekdayDuration_2  \\\n",
       "                                                                   \n",
       "1000129            17276.0             1420.0             1541.0   \n",
       "1000512            90586.0                0.0             4511.0   \n",
       "1000581            66087.0             1752.0              192.0   \n",
       "1000605           275978.0              967.0             2873.0   \n",
       "1000699           123504.0            11065.0            60561.0   \n",
       "\n",
       "         weekdayDuration_3  weekdayDuration_4  weekdayDuration_5  \\\n",
       "                                                                   \n",
       "1000129             3493.0             2587.0                0.0   \n",
       "1000512                0.0                0.0                0.0   \n",
       "1000581                0.0                0.0                0.0   \n",
       "1000605             2077.0                0.0            80812.0   \n",
       "1000699              136.0            27652.0            18913.0   \n",
       "\n",
       "         weekdayDuration_6  weekdayDuration_7  weekdayDuration_8  \\\n",
       "                                                                   \n",
       "1000129              171.0            10063.0              914.0   \n",
       "1000512                0.0                0.0                0.0   \n",
       "1000581                0.0                4.0            38123.0   \n",
       "1000605             4924.0             6598.0               17.0   \n",
       "1000699                0.0            13663.0               20.0   \n",
       "\n",
       "         weekdayDuration_9  ...  weekendTimes_93  weekendTimes_94  \\\n",
       "                            ...                                     \n",
       "1000129                0.0  ...              0.0              0.0   \n",
       "1000512                0.0  ...              0.0              0.0   \n",
       "1000581                0.0  ...              0.0              0.0   \n",
       "1000605                0.0  ...              0.0              0.0   \n",
       "1000699                0.0  ...             15.0              0.0   \n",
       "\n",
       "         weekendTimes_95  weekendTimes_96  weekendTimes_97  weekendTimes_98  \\\n",
       "                                                                              \n",
       "1000129              0.0              0.0              0.0              0.0   \n",
       "1000512              0.0              0.0              0.0              0.0   \n",
       "1000581              0.0              0.0              0.0              0.0   \n",
       "1000605              0.0              0.0              0.0              0.0   \n",
       "1000699              0.0              0.0              0.0              0.0   \n",
       "\n",
       "         weekendTimes_99  weekdayTimesSum  weekendTimesSum     rate2  \n",
       "                                                                      \n",
       "1000129              0.0           7752.0           2279.0  3.401492  \n",
       "1000512              0.0          15691.0           6158.0  2.548068  \n",
       "1000581              0.0          12702.0           5395.0  2.354402  \n",
       "1000605              0.0          33160.0          10347.0  3.204794  \n",
       "1000699              0.0          26263.0           7848.0  3.346458  \n",
       "\n",
       "[5 rows x 406 columns]"
      ]
     },
     "execution_count": 44,
     "metadata": {},
     "output_type": "execute_result"
    }
   ],
   "source": [
    "RESULT[0].head()"
   ]
  },
  {
   "cell_type": "code",
   "execution_count": null,
   "metadata": {},
   "outputs": [],
   "source": [
    "user_app_usage_features.info()"
   ]
  },
  {
   "cell_type": "code",
   "execution_count": 173,
   "metadata": {},
   "outputs": [
    {
     "name": "stdout",
     "output_type": "stream",
     "text": [
      "<class 'pandas.core.series.Series'>\n"
     ]
    }
   ],
   "source": [
    "#print(type(new_one))"
   ]
  },
  {
   "cell_type": "code",
   "execution_count": 86,
   "metadata": {},
   "outputs": [],
   "source": [
    "# def change_user_app_usage(each):\n",
    "#     def f(df):\n",
    "#         duration = df['duration']\n",
    "#         app = df['appId']\n",
    "#         time = df['times']\n",
    "#         for i,j,k in zip(app,time,duration):\n",
    "#             data[i]=[j,k]\n",
    "#     #     df = pd.Series(data)\n",
    "#         return data\n",
    "#     temp = each.groupby(['uId','use_date']).apply(f)\n",
    "#     temp.index.names = ['','']\n",
    "#     df_temp = temp.unstack()\n",
    "#     return df_temp"
   ]
  },
  {
   "cell_type": "code",
   "execution_count": 5,
   "metadata": {},
   "outputs": [],
   "source": [
    "# print(each.info(memory_usage='deep'))\n",
    "# each.describe(include=['O'])\n",
    "# each.head()\n",
    "# each.isnull().any()\n",
    "# each.values.shape"
   ]
  },
  {
   "cell_type": "code",
   "execution_count": null,
   "metadata": {},
   "outputs": [],
   "source": [
    "# for i in new_each.loc[1000364,'2019-02-28'].keys():\n",
    "#     if i in top100List:\n",
    "#         print(\"in\")"
   ]
  }
 ],
 "metadata": {
  "kernelspec": {
   "display_name": "Python 3",
   "language": "python",
   "name": "python3"
  },
  "language_info": {
   "codemirror_mode": {
    "name": "ipython",
    "version": 3
   },
   "file_extension": ".py",
   "mimetype": "text/x-python",
   "name": "python",
   "nbconvert_exporter": "python",
   "pygments_lexer": "ipython3",
   "version": "3.7.3"
  }
 },
 "nbformat": 4,
 "nbformat_minor": 2
}
