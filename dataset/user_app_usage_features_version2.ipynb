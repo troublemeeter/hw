{
 "cells": [
  {
   "cell_type": "code",
   "execution_count": 7,
   "metadata": {},
   "outputs": [],
   "source": [
    "import csv\n",
    "import numpy as np\n",
    "import os\n",
    "import pandas as pd\n",
    "import math\n",
    "import datetime"
   ]
  },
  {
   "cell_type": "code",
   "execution_count": 8,
   "metadata": {},
   "outputs": [
    {
     "ename": "KeyboardInterrupt",
     "evalue": "",
     "output_type": "error",
     "traceback": [
      "\u001b[0;31m---------------------------------------------------------------------------\u001b[0m",
      "\u001b[0;31mKeyboardInterrupt\u001b[0m                         Traceback (most recent call last)",
      "\u001b[0;32m<ipython-input-8-86a43a355d33>\u001b[0m in \u001b[0;36m<module>\u001b[0;34m()\u001b[0m\n\u001b[0;32m----> 1\u001b[0;31m \u001b[0muser_app_usage_appId\u001b[0m \u001b[0;34m=\u001b[0m \u001b[0mpd\u001b[0m\u001b[0;34m.\u001b[0m\u001b[0mread_csv\u001b[0m\u001b[0;34m(\u001b[0m\u001b[0;34m'user_app_usage.csv'\u001b[0m\u001b[0;34m,\u001b[0m \u001b[0mheader\u001b[0m\u001b[0;34m=\u001b[0m\u001b[0;32mNone\u001b[0m\u001b[0;34m,\u001b[0m \u001b[0musecols\u001b[0m\u001b[0;34m=\u001b[0m\u001b[0;34m[\u001b[0m\u001b[0;36m1\u001b[0m\u001b[0;34m]\u001b[0m\u001b[0;34m)\u001b[0m\u001b[0;34m\u001b[0m\u001b[0m\n\u001b[0m\u001b[1;32m      2\u001b[0m \u001b[0muser_app_usage_appId\u001b[0m\u001b[0;34m.\u001b[0m\u001b[0minfo\u001b[0m\u001b[0;34m(\u001b[0m\u001b[0;34m)\u001b[0m\u001b[0;34m\u001b[0m\u001b[0m\n",
      "\u001b[0;32m~/anaconda3/lib/python3.6/site-packages/pandas/io/parsers.py\u001b[0m in \u001b[0;36mparser_f\u001b[0;34m(filepath_or_buffer, sep, delimiter, header, names, index_col, usecols, squeeze, prefix, mangle_dupe_cols, dtype, engine, converters, true_values, false_values, skipinitialspace, skiprows, nrows, na_values, keep_default_na, na_filter, verbose, skip_blank_lines, parse_dates, infer_datetime_format, keep_date_col, date_parser, dayfirst, iterator, chunksize, compression, thousands, decimal, lineterminator, quotechar, quoting, escapechar, comment, encoding, dialect, tupleize_cols, error_bad_lines, warn_bad_lines, skipfooter, doublequote, delim_whitespace, low_memory, memory_map, float_precision)\u001b[0m\n\u001b[1;32m    676\u001b[0m                     skip_blank_lines=skip_blank_lines)\n\u001b[1;32m    677\u001b[0m \u001b[0;34m\u001b[0m\u001b[0m\n\u001b[0;32m--> 678\u001b[0;31m         \u001b[0;32mreturn\u001b[0m \u001b[0m_read\u001b[0m\u001b[0;34m(\u001b[0m\u001b[0mfilepath_or_buffer\u001b[0m\u001b[0;34m,\u001b[0m \u001b[0mkwds\u001b[0m\u001b[0;34m)\u001b[0m\u001b[0;34m\u001b[0m\u001b[0m\n\u001b[0m\u001b[1;32m    679\u001b[0m \u001b[0;34m\u001b[0m\u001b[0m\n\u001b[1;32m    680\u001b[0m     \u001b[0mparser_f\u001b[0m\u001b[0;34m.\u001b[0m\u001b[0m__name__\u001b[0m \u001b[0;34m=\u001b[0m \u001b[0mname\u001b[0m\u001b[0;34m\u001b[0m\u001b[0m\n",
      "\u001b[0;32m~/anaconda3/lib/python3.6/site-packages/pandas/io/parsers.py\u001b[0m in \u001b[0;36m_read\u001b[0;34m(filepath_or_buffer, kwds)\u001b[0m\n\u001b[1;32m    444\u001b[0m \u001b[0;34m\u001b[0m\u001b[0m\n\u001b[1;32m    445\u001b[0m     \u001b[0;32mtry\u001b[0m\u001b[0;34m:\u001b[0m\u001b[0;34m\u001b[0m\u001b[0m\n\u001b[0;32m--> 446\u001b[0;31m         \u001b[0mdata\u001b[0m \u001b[0;34m=\u001b[0m \u001b[0mparser\u001b[0m\u001b[0;34m.\u001b[0m\u001b[0mread\u001b[0m\u001b[0;34m(\u001b[0m\u001b[0mnrows\u001b[0m\u001b[0;34m)\u001b[0m\u001b[0;34m\u001b[0m\u001b[0m\n\u001b[0m\u001b[1;32m    447\u001b[0m     \u001b[0;32mfinally\u001b[0m\u001b[0;34m:\u001b[0m\u001b[0;34m\u001b[0m\u001b[0m\n\u001b[1;32m    448\u001b[0m         \u001b[0mparser\u001b[0m\u001b[0;34m.\u001b[0m\u001b[0mclose\u001b[0m\u001b[0;34m(\u001b[0m\u001b[0;34m)\u001b[0m\u001b[0;34m\u001b[0m\u001b[0m\n",
      "\u001b[0;32m~/anaconda3/lib/python3.6/site-packages/pandas/io/parsers.py\u001b[0m in \u001b[0;36mread\u001b[0;34m(self, nrows)\u001b[0m\n\u001b[1;32m   1034\u001b[0m                 \u001b[0;32mraise\u001b[0m \u001b[0mValueError\u001b[0m\u001b[0;34m(\u001b[0m\u001b[0;34m'skipfooter not supported for iteration'\u001b[0m\u001b[0;34m)\u001b[0m\u001b[0;34m\u001b[0m\u001b[0m\n\u001b[1;32m   1035\u001b[0m \u001b[0;34m\u001b[0m\u001b[0m\n\u001b[0;32m-> 1036\u001b[0;31m         \u001b[0mret\u001b[0m \u001b[0;34m=\u001b[0m \u001b[0mself\u001b[0m\u001b[0;34m.\u001b[0m\u001b[0m_engine\u001b[0m\u001b[0;34m.\u001b[0m\u001b[0mread\u001b[0m\u001b[0;34m(\u001b[0m\u001b[0mnrows\u001b[0m\u001b[0;34m)\u001b[0m\u001b[0;34m\u001b[0m\u001b[0m\n\u001b[0m\u001b[1;32m   1037\u001b[0m \u001b[0;34m\u001b[0m\u001b[0m\n\u001b[1;32m   1038\u001b[0m         \u001b[0;31m# May alter columns / col_dict\u001b[0m\u001b[0;34m\u001b[0m\u001b[0;34m\u001b[0m\u001b[0m\n",
      "\u001b[0;32m~/anaconda3/lib/python3.6/site-packages/pandas/io/parsers.py\u001b[0m in \u001b[0;36mread\u001b[0;34m(self, nrows)\u001b[0m\n\u001b[1;32m   1846\u001b[0m     \u001b[0;32mdef\u001b[0m \u001b[0mread\u001b[0m\u001b[0;34m(\u001b[0m\u001b[0mself\u001b[0m\u001b[0;34m,\u001b[0m \u001b[0mnrows\u001b[0m\u001b[0;34m=\u001b[0m\u001b[0;32mNone\u001b[0m\u001b[0;34m)\u001b[0m\u001b[0;34m:\u001b[0m\u001b[0;34m\u001b[0m\u001b[0m\n\u001b[1;32m   1847\u001b[0m         \u001b[0;32mtry\u001b[0m\u001b[0;34m:\u001b[0m\u001b[0;34m\u001b[0m\u001b[0m\n\u001b[0;32m-> 1848\u001b[0;31m             \u001b[0mdata\u001b[0m \u001b[0;34m=\u001b[0m \u001b[0mself\u001b[0m\u001b[0;34m.\u001b[0m\u001b[0m_reader\u001b[0m\u001b[0;34m.\u001b[0m\u001b[0mread\u001b[0m\u001b[0;34m(\u001b[0m\u001b[0mnrows\u001b[0m\u001b[0;34m)\u001b[0m\u001b[0;34m\u001b[0m\u001b[0m\n\u001b[0m\u001b[1;32m   1849\u001b[0m         \u001b[0;32mexcept\u001b[0m \u001b[0mStopIteration\u001b[0m\u001b[0;34m:\u001b[0m\u001b[0;34m\u001b[0m\u001b[0m\n\u001b[1;32m   1850\u001b[0m             \u001b[0;32mif\u001b[0m \u001b[0mself\u001b[0m\u001b[0;34m.\u001b[0m\u001b[0m_first_chunk\u001b[0m\u001b[0;34m:\u001b[0m\u001b[0;34m\u001b[0m\u001b[0m\n",
      "\u001b[0;32mpandas/_libs/parsers.pyx\u001b[0m in \u001b[0;36mpandas._libs.parsers.TextReader.read\u001b[0;34m()\u001b[0m\n",
      "\u001b[0;32mpandas/_libs/parsers.pyx\u001b[0m in \u001b[0;36mpandas._libs.parsers.TextReader._read_low_memory\u001b[0;34m()\u001b[0m\n",
      "\u001b[0;32mpandas/_libs/parsers.pyx\u001b[0m in \u001b[0;36mpandas._libs.parsers.TextReader._read_rows\u001b[0;34m()\u001b[0m\n",
      "\u001b[0;32mpandas/_libs/parsers.pyx\u001b[0m in \u001b[0;36mpandas._libs.parsers.TextReader._convert_column_data\u001b[0;34m()\u001b[0m\n",
      "\u001b[0;32mpandas/_libs/parsers.pyx\u001b[0m in \u001b[0;36mpandas._libs.parsers.TextReader._convert_tokens\u001b[0;34m()\u001b[0m\n",
      "\u001b[0;32mpandas/_libs/parsers.pyx\u001b[0m in \u001b[0;36mpandas._libs.parsers.TextReader._convert_with_dtype\u001b[0;34m()\u001b[0m\n",
      "\u001b[0;32m~/anaconda3/lib/python3.6/site-packages/pandas/core/dtypes/common.py\u001b[0m in \u001b[0;36mis_integer_dtype\u001b[0;34m(arr_or_dtype)\u001b[0m\n\u001b[1;32m    809\u001b[0m \u001b[0;34m\u001b[0m\u001b[0m\n\u001b[1;32m    810\u001b[0m \u001b[0;34m\u001b[0m\u001b[0m\n\u001b[0;32m--> 811\u001b[0;31m \u001b[0;32mdef\u001b[0m \u001b[0mis_integer_dtype\u001b[0m\u001b[0;34m(\u001b[0m\u001b[0marr_or_dtype\u001b[0m\u001b[0;34m)\u001b[0m\u001b[0;34m:\u001b[0m\u001b[0;34m\u001b[0m\u001b[0m\n\u001b[0m\u001b[1;32m    812\u001b[0m     \"\"\"\n\u001b[1;32m    813\u001b[0m     \u001b[0mCheck\u001b[0m \u001b[0mwhether\u001b[0m \u001b[0mthe\u001b[0m \u001b[0mprovided\u001b[0m \u001b[0marray\u001b[0m \u001b[0;32mor\u001b[0m \u001b[0mdtype\u001b[0m \u001b[0;32mis\u001b[0m \u001b[0mof\u001b[0m \u001b[0man\u001b[0m \u001b[0minteger\u001b[0m \u001b[0mdtype\u001b[0m\u001b[0;34m.\u001b[0m\u001b[0;34m\u001b[0m\u001b[0m\n",
      "\u001b[0;31mKeyboardInterrupt\u001b[0m: "
     ]
    }
   ],
   "source": [
    "user_app_usage_appId = pd.read_csv('user_app_usage.csv', header=None, usecols=[1])\n",
    "user_app_usage_appId.info()"
   ]
  },
  {
   "cell_type": "code",
   "execution_count": 4,
   "metadata": {},
   "outputs": [
    {
     "data": {
      "text/html": [
       "<div>\n",
       "<style scoped>\n",
       "    .dataframe tbody tr th:only-of-type {\n",
       "        vertical-align: middle;\n",
       "    }\n",
       "\n",
       "    .dataframe tbody tr th {\n",
       "        vertical-align: top;\n",
       "    }\n",
       "\n",
       "    .dataframe thead th {\n",
       "        text-align: right;\n",
       "    }\n",
       "</style>\n",
       "<table border=\"1\" class=\"dataframe\">\n",
       "  <thead>\n",
       "    <tr style=\"text-align: right;\">\n",
       "      <th></th>\n",
       "      <th>1</th>\n",
       "    </tr>\n",
       "  </thead>\n",
       "  <tbody>\n",
       "    <tr>\n",
       "      <th>0</th>\n",
       "      <td>a00289850</td>\n",
       "    </tr>\n",
       "    <tr>\n",
       "      <th>1</th>\n",
       "      <td>a00287085</td>\n",
       "    </tr>\n",
       "    <tr>\n",
       "      <th>2</th>\n",
       "      <td>a00289826</td>\n",
       "    </tr>\n",
       "    <tr>\n",
       "      <th>3</th>\n",
       "      <td>a00287085</td>\n",
       "    </tr>\n",
       "    <tr>\n",
       "      <th>4</th>\n",
       "      <td>a00278858</td>\n",
       "    </tr>\n",
       "  </tbody>\n",
       "</table>\n",
       "</div>"
      ],
      "text/plain": [
       "           1\n",
       "0  a00289850\n",
       "1  a00287085\n",
       "2  a00289826\n",
       "3  a00287085\n",
       "4  a00278858"
      ]
     },
     "execution_count": 4,
     "metadata": {},
     "output_type": "execute_result"
    }
   ],
   "source": [
    "user_app_usage_appId.head()"
   ]
  },
  {
   "cell_type": "code",
   "execution_count": 17,
   "metadata": {},
   "outputs": [],
   "source": [
    "user_app_usage_appId_counts = user_app_usage_appId[1].value_counts()"
   ]
  },
  {
   "cell_type": "code",
   "execution_count": 21,
   "metadata": {},
   "outputs": [],
   "source": [
    "user_app_usage_appId_sorted = user_app_usage_appId_counts.sort_values(ascending=False)"
   ]
  },
  {
   "cell_type": "code",
   "execution_count": 22,
   "metadata": {},
   "outputs": [],
   "source": [
    "user_app_usage_appId_top100 = user_app_usage_appId_sorted[0:100]"
   ]
  },
  {
   "cell_type": "code",
   "execution_count": 23,
   "metadata": {
    "collapsed": true
   },
   "outputs": [
    {
     "name": "stdout",
     "output_type": "stream",
     "text": [
      "a00289791    49079610\n",
      "a00103666    31515334\n",
      "a00289826    28448010\n",
      "a00287085    24253429\n",
      "a00278905    13248005\n",
      "a0048562     13073043\n",
      "a00289850    12223354\n",
      "a0046242     11453925\n",
      "a00170432    11102231\n",
      "a00278858     9236933\n",
      "a00290015     8831052\n",
      "a0030644      8050605\n",
      "a00247519     7742879\n",
      "a00271087     7715735\n",
      "a0048332      7486823\n",
      "a00109386     7074295\n",
      "a00289866     6744088\n",
      "a00292780     6172634\n",
      "a00224427     6036913\n",
      "a00290027     5674584\n",
      "a00187480     5519001\n",
      "a00261220     5481572\n",
      "a0021880      5381422\n",
      "a00274701     4913313\n",
      "a00348507     4575315\n",
      "a00292472     4408465\n",
      "a00336224     4224160\n",
      "a00289511     3936880\n",
      "a0022276      3902781\n",
      "a0071100      3610707\n",
      "               ...   \n",
      "a0032847      1397587\n",
      "a00169965     1364477\n",
      "a0075197      1337470\n",
      "a00294247     1309385\n",
      "a00331594     1272084\n",
      "a00278867     1265099\n",
      "a00278912     1231270\n",
      "a00160089     1228474\n",
      "a00261226     1226551\n",
      "a00219676     1062279\n",
      "a0049622      1061607\n",
      "a0082007      1055791\n",
      "a00239261     1052762\n",
      "a0048452      1026843\n",
      "a00348136     1024978\n",
      "a00248909     1016495\n",
      "a00287071     1016219\n",
      "a00135785      972743\n",
      "a00235015      954605\n",
      "a00287090      923980\n",
      "a00101827      912588\n",
      "a00289466      906708\n",
      "a00225310      864158\n",
      "a00153189      851111\n",
      "a0029508       827519\n",
      "a0017114       824349\n",
      "a00294240      800741\n",
      "a00158371      798113\n",
      "a00290067      779299\n",
      "a00225081      775466\n",
      "Name: 1, Length: 100, dtype: int64\n"
     ]
    }
   ],
   "source": [
    "print(user_app_usage_appId_top100)"
   ]
  },
  {
   "cell_type": "code",
   "execution_count": 33,
   "metadata": {
    "collapsed": true
   },
   "outputs": [
    {
     "data": {
      "text/plain": [
       "<matplotlib.axes._subplots.AxesSubplot at 0x7f9f67275ac8>"
      ]
     },
     "execution_count": 33,
     "metadata": {},
     "output_type": "execute_result"
    },
    {
     "data": {
      "image/png": "[encoded data removed]",
      "text/plain": [
       "<Figure size 432x288 with 1 Axes>"
      ]
     },
     "metadata": {},
     "output_type": "display_data"
    }
   ],
   "source": [
    "user_app_usage_appId_sorted[0:100].plot(kind='line', grid=True, label='S1',title='This is Series', style='--')"
   ]
  },
  {
   "cell_type": "code",
   "execution_count": 39,
   "metadata": {
    "scrolled": true
   },
   "outputs": [
    {
     "data": {
      "text/plain": [
       "<matplotlib.axes._subplots.AxesSubplot at 0x7f9f67e7f0b8>"
      ]
     },
     "execution_count": 39,
     "metadata": {},
     "output_type": "execute_result"
    },
    {
     "data": {
      "image/png": "[encoded data removed]",
      "text/plain": [
       "<Figure size 432x288 with 1 Axes>"
      ]
     },
     "metadata": {},
     "output_type": "display_data"
    }
   ],
   "source": [
    "user_app_usage_appId_sorted[0:1000].apply(lambda x: math.log10(x)).plot(kind='line', grid=True, label='S1',title='This is Series', style='--')"
   ]
  },
  {
   "cell_type": "code",
   "execution_count": 53,
   "metadata": {
    "scrolled": true
   },
   "outputs": [
    {
     "name": "stdout",
     "output_type": "stream",
     "text": [
      "['a00289791', 'a00103666', 'a00289826', 'a00287085', 'a00278905', 'a0048562', 'a00289850', 'a0046242', 'a00170432', 'a00278858', 'a00290015', 'a0030644', 'a00247519', 'a00271087', 'a0048332', 'a00109386', 'a00289866', 'a00292780', 'a00224427', 'a00290027', 'a00187480', 'a00261220', 'a0021880', 'a00274701', 'a00348507', 'a00292472', 'a00336224', 'a00289511', 'a0022276', 'a0071100', 'a00311680', 'a00481059', 'a0036392', 'a00275200', 'a00278849', 'a00157201', 'a00244790', 'a00263057', 'a00289519', 'a00331160', 'a00287057', 'a0048522', 'a009932', 'a00307756', 'a0048467', 'a00217423', 'a00363352', 'a00166554', 'a00299200', 'a0027551', 'a003925', 'a0092898', 'a0064339', 'a00144187', 'a0048637', 'a00461814', 'a00271777', 'a00373197', 'a00157220', 'a00289728', 'a00141402', 'a0071095', 'a00276196', 'a00290038', 'a0082383', 'a00324307', 'a00299316', 'a0099559', 'a00336168', 'a00281804', 'a0032847', 'a00169965', 'a0075197', 'a00294247', 'a00331594', 'a00278867', 'a00278912', 'a00160089', 'a00261226', 'a00219676', 'a0049622', 'a0082007', 'a00239261', 'a0048452', 'a00348136', 'a00248909', 'a00287071', 'a00135785', 'a00235015', 'a00287090', 'a00101827', 'a00289466', 'a00225310', 'a00153189', 'a0029508', 'a0017114', 'a00294240', 'a00158371', 'a00290067', 'a00225081']\n"
     ]
    }
   ],
   "source": [
    "top100List = list(user_app_usage_appId_top100.index)\n",
    "print(top100List)"
   ]
  },
  {
   "cell_type": "code",
   "execution_count": 18,
   "metadata": {},
   "outputs": [],
   "source": [
    "top100List = ['a00289791', 'a00103666', 'a00289826', 'a00287085', 'a00278905', 'a0048562', 'a00289850', 'a0046242', 'a00170432', 'a00278858', 'a00290015', 'a0030644', 'a00247519', 'a00271087', 'a0048332', 'a00109386', 'a00289866', 'a00292780', 'a00224427', 'a00290027', 'a00187480', 'a00261220', 'a0021880', 'a00274701', 'a00348507', 'a00292472', 'a00336224', 'a00289511', 'a0022276', 'a0071100', 'a00311680', 'a00481059', 'a0036392', 'a00275200', 'a00278849', 'a00157201', 'a00244790', 'a00263057', 'a00289519', 'a00331160', 'a00287057', 'a0048522', 'a009932', 'a00307756', 'a0048467', 'a00217423', 'a00363352', 'a00166554', 'a00299200', 'a0027551', 'a003925', 'a0092898', 'a0064339', 'a00144187', 'a0048637', 'a00461814', 'a00271777', 'a00373197', 'a00157220', 'a00289728', 'a00141402', 'a0071095', 'a00276196', 'a00290038', 'a0082383', 'a00324307', 'a00299316', 'a0099559', 'a00336168', 'a00281804', 'a0032847', 'a00169965', 'a0075197', 'a00294247', 'a00331594', 'a00278867', 'a00278912', 'a00160089', 'a00261226', 'a00219676', 'a0049622', 'a0082007', 'a00239261', 'a0048452', 'a00348136', 'a00248909', 'a00287071', 'a00135785', 'a00235015', 'a00287090', 'a00101827', 'a00289466', 'a00225310', 'a00153189', 'a0029508', 'a0017114', 'a00294240', 'a00158371', 'a00290067', 'a00225081']"
   ]
  },
  {
   "cell_type": "code",
   "execution_count": 19,
   "metadata": {},
   "outputs": [],
   "source": [
    "weekends = ['2019-03-02','2019-03-03','2019-03-09','2019-03-10','2019-03-16','2019-03-17','2019-03-23','2019-03-24']\n",
    "user_app_usage = pd.read_csv('user_app_usage.csv',header=None,chunksize=5000000)\n",
    "user_app_usage.columns = ['uId','appId','duration','times','use_date']"
   ]
  },
  {
   "cell_type": "code",
   "execution_count": 20,
   "metadata": {},
   "outputs": [],
   "source": [
    "# for each in user_app_usage:\n",
    "#     break\n",
    "# each.columns = ['uId','appId','duration','times','use_date']\n",
    "# each.head()"
   ]
  },
  {
   "cell_type": "code",
   "execution_count": 21,
   "metadata": {},
   "outputs": [],
   "source": [
    "def merge_by_date(each):\n",
    "    def f(df):\n",
    "        duration = df['duration']\n",
    "        app = df['appId']\n",
    "        times = df['times']\n",
    "        date = df['use_date']\n",
    "        weekdayDuration = [ 0 for x in range(100) ]\n",
    "        weekdayTimes = [ 0 for x in range(100) ]\n",
    "        weekendDuration = [ 0 for x in range(100) ]\n",
    "        weekendTimes = [ 0 for x in range(100) ]        \n",
    "        for a,t,du,da in zip(app,times,duration,date):\n",
    "            if a in top100List:\n",
    "                index = top100List.index(a)\n",
    "                if da in weekends:\n",
    "                    weekendTimes[index] += t\n",
    "                    weekendDuration[index] += du\n",
    "                else:\n",
    "                    weekdayTimes[index] += t\n",
    "                    weekdayDuration[index] += du                \n",
    "    #     df = pd.Series(data)\n",
    "        weekD =  sum(weekdayDuration)\n",
    "        weekendD = sum(weekendDuration)\n",
    "        weekT = sum(weekdayTimes)\n",
    "        weekendT = sum(weekendTimes)\n",
    "        if( weekD==0 or weekendD==0 or weekT==0 or weekendT==0 ):\n",
    "            return [0]\n",
    "        rate1 = weekD/weekendD\n",
    "        rate2 = weekT/weekendT\n",
    "        return weekdayDuration + weekendDuration + [weekD]+[weekendD]+[rate1] + weekdayTimes + weekendTimes + [weekT]+[weekendT]+[rate2]\n",
    "    temp = each.groupby(['uId']).apply(f)\n",
    "    #temp.index.names = ['']\n",
    "    #df_temp = temp.unstack()\n",
    "    return temp"
   ]
  },
  {
   "cell_type": "code",
   "execution_count": 22,
   "metadata": {},
   "outputs": [
    {
     "name": "stdout",
     "output_type": "stream",
     "text": [
      "407\n"
     ]
    }
   ],
   "source": [
    "cols = ['uId']\n",
    "cols += ['weekdayDuration_'+str(i) for i in range(100)]+['weekendDuration_'+str(i) for i in range(100)]\n",
    "cols += ['weekdayDurationSum']+['weekendDurationSum']+['rate1']\n",
    "cols+= ['weekdayTimes_'+str(i) for i in range(100)] + ['weekendTimes_'+str(i) for i in range(100)]\n",
    "cols += ['weekdayTimesSum']+['weekendTimesSum']+['rate2']\n",
    "print(len(cols))"
   ]
  },
  {
   "cell_type": "code",
   "execution_count": 23,
   "metadata": {},
   "outputs": [
    {
     "name": "stdout",
     "output_type": "stream",
     "text": [
      "10\n",
      "20\n",
      "30\n",
      "40\n",
      "50\n",
      "60\n",
      "70\n",
      "80\n",
      "90\n",
      "100\n",
      "110\n",
      "120\n",
      "130\n",
      "0:34:06.880042\n"
     ]
    }
   ],
   "source": [
    "RESULT = []\n",
    "count = 0\n",
    "start = datetime.datetime.now()\n",
    "\n",
    "for each in user_app_usage:\n",
    "    each.columns = ['uId','appId','duration','times','use_date']\n",
    "    new_one = merge_by_date(each)    \n",
    "    #print(new_one)\n",
    "    #print(type(new_one))    \n",
    "    new_one.drop(list(new_one.index)[0], axis=0, inplace=True)\n",
    "    new_one.drop(list(new_one.index)[-1], axis=0, inplace=True)\n",
    "    temp = pd.DataFrame(list(new_one.values))\n",
    "    temp.index = new_one.index\n",
    "    temp.index.name = '' \n",
    "    RESULT.append(temp)\n",
    "    count += 1\n",
    "    if( count%10==0 ):\n",
    "        print(count)\n",
    "#     if(count==100):\n",
    "#         break\n",
    "#     break\n",
    "\n",
    "for each in RESULT:\n",
    "    each.columns = cols[1:]\n",
    "user_app_usage_features = pd.concat(RESULT)\n",
    "user_app_usage_features = user_app_usage_features.dropna()\n",
    "\n",
    "end = datetime.datetime.now()\n",
    "print(end-start)"
   ]
  },
  {
   "cell_type": "code",
   "execution_count": 24,
   "metadata": {},
   "outputs": [
    {
     "data": {
      "text/html": [
       "<div>\n",
       "<style scoped>\n",
       "    .dataframe tbody tr th:only-of-type {\n",
       "        vertical-align: middle;\n",
       "    }\n",
       "\n",
       "    .dataframe tbody tr th {\n",
       "        vertical-align: top;\n",
       "    }\n",
       "\n",
       "    .dataframe thead th {\n",
       "        text-align: right;\n",
       "    }\n",
       "</style>\n",
       "<table border=\"1\" class=\"dataframe\">\n",
       "  <thead>\n",
       "    <tr style=\"text-align: right;\">\n",
       "      <th></th>\n",
       "      <th>weekdayDuration_0</th>\n",
       "      <th>weekdayDuration_1</th>\n",
       "      <th>weekdayDuration_2</th>\n",
       "      <th>weekdayDuration_3</th>\n",
       "      <th>weekdayDuration_4</th>\n",
       "      <th>weekdayDuration_5</th>\n",
       "      <th>weekdayDuration_6</th>\n",
       "      <th>weekdayDuration_7</th>\n",
       "      <th>weekdayDuration_8</th>\n",
       "      <th>weekdayDuration_9</th>\n",
       "      <th>...</th>\n",
       "      <th>weekendTimes_93</th>\n",
       "      <th>weekendTimes_94</th>\n",
       "      <th>weekendTimes_95</th>\n",
       "      <th>weekendTimes_96</th>\n",
       "      <th>weekendTimes_97</th>\n",
       "      <th>weekendTimes_98</th>\n",
       "      <th>weekendTimes_99</th>\n",
       "      <th>weekdayTimesSum</th>\n",
       "      <th>weekendTimesSum</th>\n",
       "      <th>rate2</th>\n",
       "    </tr>\n",
       "    <tr>\n",
       "      <th></th>\n",
       "      <th></th>\n",
       "      <th></th>\n",
       "      <th></th>\n",
       "      <th></th>\n",
       "      <th></th>\n",
       "      <th></th>\n",
       "      <th></th>\n",
       "      <th></th>\n",
       "      <th></th>\n",
       "      <th></th>\n",
       "      <th></th>\n",
       "      <th></th>\n",
       "      <th></th>\n",
       "      <th></th>\n",
       "      <th></th>\n",
       "      <th></th>\n",
       "      <th></th>\n",
       "      <th></th>\n",
       "      <th></th>\n",
       "      <th></th>\n",
       "      <th></th>\n",
       "    </tr>\n",
       "  </thead>\n",
       "  <tbody>\n",
       "    <tr>\n",
       "      <th>1000321</th>\n",
       "      <td>37228.0</td>\n",
       "      <td>4176.0</td>\n",
       "      <td>16616.0</td>\n",
       "      <td>0.0</td>\n",
       "      <td>0.0</td>\n",
       "      <td>0.0</td>\n",
       "      <td>0.0</td>\n",
       "      <td>0.0</td>\n",
       "      <td>0.0</td>\n",
       "      <td>0.0</td>\n",
       "      <td>...</td>\n",
       "      <td>0.0</td>\n",
       "      <td>86.0</td>\n",
       "      <td>0.0</td>\n",
       "      <td>0.0</td>\n",
       "      <td>0.0</td>\n",
       "      <td>0.0</td>\n",
       "      <td>0.0</td>\n",
       "      <td>12518.0</td>\n",
       "      <td>3627.0</td>\n",
       "      <td>3.451337</td>\n",
       "    </tr>\n",
       "    <tr>\n",
       "      <th>1000364</th>\n",
       "      <td>137527.0</td>\n",
       "      <td>0.0</td>\n",
       "      <td>40509.0</td>\n",
       "      <td>32381.0</td>\n",
       "      <td>0.0</td>\n",
       "      <td>0.0</td>\n",
       "      <td>14319.0</td>\n",
       "      <td>0.0</td>\n",
       "      <td>0.0</td>\n",
       "      <td>15826.0</td>\n",
       "      <td>...</td>\n",
       "      <td>0.0</td>\n",
       "      <td>0.0</td>\n",
       "      <td>0.0</td>\n",
       "      <td>0.0</td>\n",
       "      <td>0.0</td>\n",
       "      <td>0.0</td>\n",
       "      <td>0.0</td>\n",
       "      <td>4598.0</td>\n",
       "      <td>1786.0</td>\n",
       "      <td>2.574468</td>\n",
       "    </tr>\n",
       "    <tr>\n",
       "      <th>1000387</th>\n",
       "      <td>93777.0</td>\n",
       "      <td>5096.0</td>\n",
       "      <td>2106.0</td>\n",
       "      <td>33037.0</td>\n",
       "      <td>0.0</td>\n",
       "      <td>12515.0</td>\n",
       "      <td>0.0</td>\n",
       "      <td>0.0</td>\n",
       "      <td>0.0</td>\n",
       "      <td>0.0</td>\n",
       "      <td>...</td>\n",
       "      <td>0.0</td>\n",
       "      <td>0.0</td>\n",
       "      <td>0.0</td>\n",
       "      <td>0.0</td>\n",
       "      <td>0.0</td>\n",
       "      <td>0.0</td>\n",
       "      <td>0.0</td>\n",
       "      <td>19491.0</td>\n",
       "      <td>8782.0</td>\n",
       "      <td>2.219426</td>\n",
       "    </tr>\n",
       "    <tr>\n",
       "      <th>1000395</th>\n",
       "      <td>35678.0</td>\n",
       "      <td>836.0</td>\n",
       "      <td>2855.0</td>\n",
       "      <td>360.0</td>\n",
       "      <td>0.0</td>\n",
       "      <td>0.0</td>\n",
       "      <td>0.0</td>\n",
       "      <td>0.0</td>\n",
       "      <td>3411.0</td>\n",
       "      <td>0.0</td>\n",
       "      <td>...</td>\n",
       "      <td>0.0</td>\n",
       "      <td>0.0</td>\n",
       "      <td>0.0</td>\n",
       "      <td>0.0</td>\n",
       "      <td>0.0</td>\n",
       "      <td>0.0</td>\n",
       "      <td>16.0</td>\n",
       "      <td>5423.0</td>\n",
       "      <td>3043.0</td>\n",
       "      <td>1.782123</td>\n",
       "    </tr>\n",
       "    <tr>\n",
       "      <th>1000466</th>\n",
       "      <td>37242.0</td>\n",
       "      <td>24746.0</td>\n",
       "      <td>13629.0</td>\n",
       "      <td>16816.0</td>\n",
       "      <td>0.0</td>\n",
       "      <td>0.0</td>\n",
       "      <td>789.0</td>\n",
       "      <td>1607.0</td>\n",
       "      <td>60.0</td>\n",
       "      <td>0.0</td>\n",
       "      <td>...</td>\n",
       "      <td>0.0</td>\n",
       "      <td>0.0</td>\n",
       "      <td>0.0</td>\n",
       "      <td>0.0</td>\n",
       "      <td>0.0</td>\n",
       "      <td>0.0</td>\n",
       "      <td>0.0</td>\n",
       "      <td>16521.0</td>\n",
       "      <td>5773.0</td>\n",
       "      <td>2.861770</td>\n",
       "    </tr>\n",
       "  </tbody>\n",
       "</table>\n",
       "<p>5 rows × 406 columns</p>\n",
       "</div>"
      ],
      "text/plain": [
       "         weekdayDuration_0  weekdayDuration_1  weekdayDuration_2  \\\n",
       "                                                                   \n",
       "1000321            37228.0             4176.0            16616.0   \n",
       "1000364           137527.0                0.0            40509.0   \n",
       "1000387            93777.0             5096.0             2106.0   \n",
       "1000395            35678.0              836.0             2855.0   \n",
       "1000466            37242.0            24746.0            13629.0   \n",
       "\n",
       "         weekdayDuration_3  weekdayDuration_4  weekdayDuration_5  \\\n",
       "                                                                   \n",
       "1000321                0.0                0.0                0.0   \n",
       "1000364            32381.0                0.0                0.0   \n",
       "1000387            33037.0                0.0            12515.0   \n",
       "1000395              360.0                0.0                0.0   \n",
       "1000466            16816.0                0.0                0.0   \n",
       "\n",
       "         weekdayDuration_6  weekdayDuration_7  weekdayDuration_8  \\\n",
       "                                                                   \n",
       "1000321                0.0                0.0                0.0   \n",
       "1000364            14319.0                0.0                0.0   \n",
       "1000387                0.0                0.0                0.0   \n",
       "1000395                0.0                0.0             3411.0   \n",
       "1000466              789.0             1607.0               60.0   \n",
       "\n",
       "         weekdayDuration_9    ...     weekendTimes_93  weekendTimes_94  \\\n",
       "                              ...                                        \n",
       "1000321                0.0    ...                 0.0             86.0   \n",
       "1000364            15826.0    ...                 0.0              0.0   \n",
       "1000387                0.0    ...                 0.0              0.0   \n",
       "1000395                0.0    ...                 0.0              0.0   \n",
       "1000466                0.0    ...                 0.0              0.0   \n",
       "\n",
       "         weekendTimes_95  weekendTimes_96  weekendTimes_97  weekendTimes_98  \\\n",
       "                                                                              \n",
       "1000321              0.0              0.0              0.0              0.0   \n",
       "1000364              0.0              0.0              0.0              0.0   \n",
       "1000387              0.0              0.0              0.0              0.0   \n",
       "1000395              0.0              0.0              0.0              0.0   \n",
       "1000466              0.0              0.0              0.0              0.0   \n",
       "\n",
       "         weekendTimes_99  weekdayTimesSum  weekendTimesSum     rate2  \n",
       "                                                                      \n",
       "1000321              0.0          12518.0           3627.0  3.451337  \n",
       "1000364              0.0           4598.0           1786.0  2.574468  \n",
       "1000387              0.0          19491.0           8782.0  2.219426  \n",
       "1000395             16.0           5423.0           3043.0  1.782123  \n",
       "1000466              0.0          16521.0           5773.0  2.861770  \n",
       "\n",
       "[5 rows x 406 columns]"
      ]
     },
     "execution_count": 24,
     "metadata": {},
     "output_type": "execute_result"
    }
   ],
   "source": [
    "RESULT[0].head()"
   ]
  },
  {
   "cell_type": "code",
   "execution_count": 25,
   "metadata": {},
   "outputs": [
    {
     "name": "stdout",
     "output_type": "stream",
     "text": [
      "<class 'pandas.core.frame.DataFrame'>\n",
      "Int64Index: 1939127 entries, 1000321 to 3511958\n",
      "Columns: 406 entries, weekdayDuration_0 to rate2\n",
      "dtypes: float64(406)\n",
      "memory usage: 5.9 GB\n"
     ]
    }
   ],
   "source": [
    "user_app_usage_features.info()"
   ]
  },
  {
   "cell_type": "code",
   "execution_count": 26,
   "metadata": {},
   "outputs": [],
   "source": [
    "user_app_usage_features.to_csv('features.csv')"
   ]
  },
  {
   "cell_type": "code",
   "execution_count": 173,
   "metadata": {},
   "outputs": [
    {
     "name": "stdout",
     "output_type": "stream",
     "text": [
      "<class 'pandas.core.series.Series'>\n"
     ]
    }
   ],
   "source": [
    "#print(type(new_one))"
   ]
  },
  {
   "cell_type": "code",
   "execution_count": 86,
   "metadata": {},
   "outputs": [],
   "source": [
    "# def change_user_app_usage(each):\n",
    "#     def f(df):\n",
    "#         duration = df['duration']\n",
    "#         app = df['appId']\n",
    "#         time = df['times']\n",
    "#         for i,j,k in zip(app,time,duration):\n",
    "#             data[i]=[j,k]\n",
    "#     #     df = pd.Series(data)\n",
    "#         return data\n",
    "#     temp = each.groupby(['uId','use_date']).apply(f)\n",
    "#     temp.index.names = ['','']\n",
    "#     df_temp = temp.unstack()\n",
    "#     return df_temp"
   ]
  },
  {
   "cell_type": "code",
   "execution_count": 5,
   "metadata": {},
   "outputs": [],
   "source": [
    "# print(each.info(memory_usage='deep'))\n",
    "# each.describe(include=['O'])\n",
    "# each.head()\n",
    "# each.isnull().any()\n",
    "# each.values.shape"
   ]
  },
  {
   "cell_type": "code",
   "execution_count": null,
   "metadata": {},
   "outputs": [],
   "source": [
    "# for i in new_each.loc[1000364,'2019-02-28'].keys():\n",
    "#     if i in top100List:\n",
    "#         print(\"in\")"
   ]
  }
 ],
 "metadata": {
  "kernelspec": {
   "display_name": "Python 3",
   "language": "python",
   "name": "python3"
  },
  "language_info": {
   "codemirror_mode": {
    "name": "ipython",
    "version": 3
   },
   "file_extension": ".py",
   "mimetype": "text/x-python",
   "name": "python",
   "nbconvert_exporter": "python",
   "pygments_lexer": "ipython3",
   "version": "3.6.5"
  }
 },
 "nbformat": 4,
 "nbformat_minor": 2
}
