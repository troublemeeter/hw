{
 "cells": [
  {
   "cell_type": "code",
   "execution_count": 15,
   "metadata": {},
   "outputs": [],
   "source": [
    "import numpy as np\n",
    "import pandas as pd\n",
    "import matplotlib.pyplot as plt\n",
    "import seaborn as sns\n",
    "from sklearn.metrics import classification_report\n",
    "from sklearn import metrics\n",
    "from sklearn.preprocessing import StandardScaler\n",
    "from sklearn.model_selection import train_test_split, cross_val_score, GridSearchCV\n",
    "from sklearn.metrics import confusion_matrix, accuracy_score, roc_curve, auc\n",
    "import pickle\n",
    "import xgboost as xgb \n",
    "import lightgbm as lgb "
   ]
  },
  {
   "cell_type": "code",
   "execution_count": 88,
   "metadata": {},
   "outputs": [],
   "source": [
    "def print_confusion_matrix(test_y, predictions):\n",
    "    cm = confusion_matrix(test_y, predictions)\n",
    "    labels = ['No Default', 'Default']\n",
    "    plt.figure(figsize=(8,6))\n",
    "    sns.heatmap(cm,xticklabels=labels, yticklabels=labels, annot=True, fmt='d', cmap=\"Blues\", vmin = 0.2);\n",
    "    plt.title('Confusion Matrix')\n",
    "    plt.ylabel('True Class')\n",
    "    plt.xlabel('Predicted Class')\n",
    "    plt.show()\n",
    "    target_names = ['class 0', 'class 1', 'class 2', 'class 3', 'class 4', 'class 5']\n",
    "    print(classification_report(test_y, predictions, target_names=target_names))\n",
    "    acc = accuracy_score(test_y, predictions)\n",
    "    return auc"
   ]
  },
  {
   "cell_type": "code",
   "execution_count": 4,
   "metadata": {},
   "outputs": [],
   "source": [
    "with open('../dataset/train.data.pkl','rb') as f:\n",
    "    train_data = pickle.load(f)"
   ]
  },
  {
   "cell_type": "code",
   "execution_count": null,
   "metadata": {},
   "outputs": [],
   "source": [
    "del train_data['uId']"
   ]
  },
  {
   "cell_type": "code",
   "execution_count": 7,
   "metadata": {},
   "outputs": [
    {
     "name": "stdout",
     "output_type": "stream",
     "text": [
      "<class 'pandas.core.frame.DataFrame'>\n",
      "Int64Index: 1594068 entries, 0 to 1594067\n",
      "Columns: 633 entries, gender to age_group\n",
      "dtypes: float32(191), uint8(442)\n",
      "memory usage: 1.8 GB\n",
      "None\n"
     ]
    },
    {
     "data": {
      "text/html": [
       "<div>\n",
       "<style scoped>\n",
       "    .dataframe tbody tr th:only-of-type {\n",
       "        vertical-align: middle;\n",
       "    }\n",
       "\n",
       "    .dataframe tbody tr th {\n",
       "        vertical-align: top;\n",
       "    }\n",
       "\n",
       "    .dataframe thead th {\n",
       "        text-align: right;\n",
       "    }\n",
       "</style>\n",
       "<table border=\"1\" class=\"dataframe\">\n",
       "  <thead>\n",
       "    <tr style=\"text-align: right;\">\n",
       "      <th></th>\n",
       "      <th>gender</th>\n",
       "      <th>prodName_p001</th>\n",
       "      <th>prodName_p0010</th>\n",
       "      <th>prodName_p00100</th>\n",
       "      <th>prodName_p00102</th>\n",
       "      <th>prodName_p00103</th>\n",
       "      <th>prodName_p00105</th>\n",
       "      <th>prodName_p00106</th>\n",
       "      <th>prodName_p00107</th>\n",
       "      <th>prodName_p00108</th>\n",
       "      <th>...</th>\n",
       "      <th>weekdayDurationSum_d</th>\n",
       "      <th>weekdayDurationSum_e</th>\n",
       "      <th>weekdayDurationSum_f</th>\n",
       "      <th>weekendDurationSum_a</th>\n",
       "      <th>weekendDurationSum_b</th>\n",
       "      <th>weekendDurationSum_c</th>\n",
       "      <th>weekendDurationSum_d</th>\n",
       "      <th>weekendDurationSum_e</th>\n",
       "      <th>weekendDurationSum_f</th>\n",
       "      <th>age_group</th>\n",
       "    </tr>\n",
       "  </thead>\n",
       "  <tbody>\n",
       "    <tr>\n",
       "      <th>0</th>\n",
       "      <td>0</td>\n",
       "      <td>0</td>\n",
       "      <td>0</td>\n",
       "      <td>0</td>\n",
       "      <td>0</td>\n",
       "      <td>0</td>\n",
       "      <td>0</td>\n",
       "      <td>0</td>\n",
       "      <td>0</td>\n",
       "      <td>0</td>\n",
       "      <td>...</td>\n",
       "      <td>0</td>\n",
       "      <td>0</td>\n",
       "      <td>0</td>\n",
       "      <td>1</td>\n",
       "      <td>0</td>\n",
       "      <td>0</td>\n",
       "      <td>0</td>\n",
       "      <td>0</td>\n",
       "      <td>0</td>\n",
       "      <td>4</td>\n",
       "    </tr>\n",
       "    <tr>\n",
       "      <th>1</th>\n",
       "      <td>1</td>\n",
       "      <td>0</td>\n",
       "      <td>0</td>\n",
       "      <td>0</td>\n",
       "      <td>0</td>\n",
       "      <td>0</td>\n",
       "      <td>0</td>\n",
       "      <td>0</td>\n",
       "      <td>0</td>\n",
       "      <td>0</td>\n",
       "      <td>...</td>\n",
       "      <td>0</td>\n",
       "      <td>0</td>\n",
       "      <td>0</td>\n",
       "      <td>0</td>\n",
       "      <td>1</td>\n",
       "      <td>0</td>\n",
       "      <td>0</td>\n",
       "      <td>0</td>\n",
       "      <td>0</td>\n",
       "      <td>5</td>\n",
       "    </tr>\n",
       "    <tr>\n",
       "      <th>2</th>\n",
       "      <td>1</td>\n",
       "      <td>0</td>\n",
       "      <td>0</td>\n",
       "      <td>0</td>\n",
       "      <td>0</td>\n",
       "      <td>0</td>\n",
       "      <td>0</td>\n",
       "      <td>0</td>\n",
       "      <td>0</td>\n",
       "      <td>0</td>\n",
       "      <td>...</td>\n",
       "      <td>0</td>\n",
       "      <td>0</td>\n",
       "      <td>0</td>\n",
       "      <td>0</td>\n",
       "      <td>1</td>\n",
       "      <td>0</td>\n",
       "      <td>0</td>\n",
       "      <td>0</td>\n",
       "      <td>0</td>\n",
       "      <td>2</td>\n",
       "    </tr>\n",
       "    <tr>\n",
       "      <th>3</th>\n",
       "      <td>0</td>\n",
       "      <td>0</td>\n",
       "      <td>0</td>\n",
       "      <td>0</td>\n",
       "      <td>0</td>\n",
       "      <td>0</td>\n",
       "      <td>0</td>\n",
       "      <td>0</td>\n",
       "      <td>0</td>\n",
       "      <td>0</td>\n",
       "      <td>...</td>\n",
       "      <td>0</td>\n",
       "      <td>0</td>\n",
       "      <td>0</td>\n",
       "      <td>1</td>\n",
       "      <td>0</td>\n",
       "      <td>0</td>\n",
       "      <td>0</td>\n",
       "      <td>0</td>\n",
       "      <td>0</td>\n",
       "      <td>4</td>\n",
       "    </tr>\n",
       "    <tr>\n",
       "      <th>4</th>\n",
       "      <td>0</td>\n",
       "      <td>0</td>\n",
       "      <td>0</td>\n",
       "      <td>0</td>\n",
       "      <td>0</td>\n",
       "      <td>0</td>\n",
       "      <td>0</td>\n",
       "      <td>0</td>\n",
       "      <td>0</td>\n",
       "      <td>0</td>\n",
       "      <td>...</td>\n",
       "      <td>0</td>\n",
       "      <td>0</td>\n",
       "      <td>0</td>\n",
       "      <td>1</td>\n",
       "      <td>0</td>\n",
       "      <td>0</td>\n",
       "      <td>0</td>\n",
       "      <td>0</td>\n",
       "      <td>0</td>\n",
       "      <td>4</td>\n",
       "    </tr>\n",
       "  </tbody>\n",
       "</table>\n",
       "<p>5 rows × 633 columns</p>\n",
       "</div>"
      ],
      "text/plain": [
       "   gender  prodName_p001  prodName_p0010  prodName_p00100  prodName_p00102  \\\n",
       "0       0              0               0                0                0   \n",
       "1       1              0               0                0                0   \n",
       "2       1              0               0                0                0   \n",
       "3       0              0               0                0                0   \n",
       "4       0              0               0                0                0   \n",
       "\n",
       "   prodName_p00103  prodName_p00105  prodName_p00106  prodName_p00107  \\\n",
       "0                0                0                0                0   \n",
       "1                0                0                0                0   \n",
       "2                0                0                0                0   \n",
       "3                0                0                0                0   \n",
       "4                0                0                0                0   \n",
       "\n",
       "   prodName_p00108  ...  weekdayDurationSum_d  weekdayDurationSum_e  \\\n",
       "0                0  ...                     0                     0   \n",
       "1                0  ...                     0                     0   \n",
       "2                0  ...                     0                     0   \n",
       "3                0  ...                     0                     0   \n",
       "4                0  ...                     0                     0   \n",
       "\n",
       "   weekdayDurationSum_f  weekendDurationSum_a  weekendDurationSum_b  \\\n",
       "0                     0                     1                     0   \n",
       "1                     0                     0                     1   \n",
       "2                     0                     0                     1   \n",
       "3                     0                     1                     0   \n",
       "4                     0                     1                     0   \n",
       "\n",
       "   weekendDurationSum_c  weekendDurationSum_d  weekendDurationSum_e  \\\n",
       "0                     0                     0                     0   \n",
       "1                     0                     0                     0   \n",
       "2                     0                     0                     0   \n",
       "3                     0                     0                     0   \n",
       "4                     0                     0                     0   \n",
       "\n",
       "   weekendDurationSum_f  age_group  \n",
       "0                     0          4  \n",
       "1                     0          5  \n",
       "2                     0          2  \n",
       "3                     0          4  \n",
       "4                     0          4  \n",
       "\n",
       "[5 rows x 633 columns]"
      ]
     },
     "execution_count": 7,
     "metadata": {},
     "output_type": "execute_result"
    }
   ],
   "source": [
    "print(train_data.info())\n",
    "train_data.head()"
   ]
  },
  {
   "cell_type": "code",
   "execution_count": 8,
   "metadata": {},
   "outputs": [],
   "source": [
    "train, test = train_test_split(train_data, test_size = 0.01, random_state= 2019)"
   ]
  },
  {
   "cell_type": "code",
   "execution_count": 10,
   "metadata": {},
   "outputs": [
    {
     "data": {
      "text/plain": [
       "((1578127, 633), (15941, 633), (1594068, 633))"
      ]
     },
     "execution_count": 10,
     "metadata": {},
     "output_type": "execute_result"
    }
   ],
   "source": [
    "train.shape,test.shape,train_data.shape"
   ]
  },
  {
   "cell_type": "code",
   "execution_count": 11,
   "metadata": {},
   "outputs": [],
   "source": [
    "train_y = train.age_group\n",
    "test_y = test.age_group\n",
    "train_x = train.drop(['age_group'], axis = 1)\n",
    "test_x = test.drop(['age_group'], axis = 1)"
   ]
  },
  {
   "cell_type": "code",
   "execution_count": 12,
   "metadata": {},
   "outputs": [
    {
     "data": {
      "text/plain": [
       "((1578127,), (1578127, 632))"
      ]
     },
     "execution_count": 12,
     "metadata": {},
     "output_type": "execute_result"
    }
   ],
   "source": [
    "train_y.shape,train_x.shape"
   ]
  },
  {
   "cell_type": "markdown",
   "metadata": {},
   "source": [
    "https://www.cnblogs.com/wzdLY/p/9867719.html  \n",
    "https://lightgbm.readthedocs.io/en/latest/Python-API.html#scikit-learn-api"
   ]
  },
  {
   "cell_type": "code",
   "execution_count": 22,
   "metadata": {},
   "outputs": [],
   "source": [
    "params = {\n",
    "          'max_depth' : -1,\n",
    "          'nthread': -1, # Updated from nthread\n",
    "          'num_leaves': 64,\n",
    "          'learning_rate': 0.05,\n",
    "          'subsample': 1,\n",
    "          'subsample_freq': 1,\n",
    "          'colsample_bytree': 0.8,\n",
    "          'reg_alpha': 5,\n",
    "          'reg_lambda': 10,\n",
    "          'min_split_gain': 0.5,\n",
    "          'min_child_weight': 1,\n",
    "          'min_child_samples': 5,\n",
    "          'scale_pos_weight': 1,\n",
    "          'num_class' : 6,\n",
    "          }"
   ]
  },
  {
   "cell_type": "code",
   "execution_count": 25,
   "metadata": {},
   "outputs": [
    {
     "data": {
      "text/plain": [
       "dict_keys(['boosting_type', 'class_weight', 'colsample_bytree', 'importance_type', 'learning_rate', 'max_depth', 'min_child_samples', 'min_child_weight', 'min_split_gain', 'n_estimators', 'n_jobs', 'num_leaves', 'objective', 'random_state', 'reg_alpha', 'reg_lambda', 'silent', 'subsample', 'subsample_for_bin', 'subsample_freq'])"
      ]
     },
     "execution_count": 25,
     "metadata": {},
     "output_type": "execute_result"
    }
   ],
   "source": [
    "mdl = lgb.LGBMClassifier(boosting_type= 'gbdt',\n",
    "          objective = 'multiclass',\n",
    "          n_jobs = -1, # Updated from 'nthread'\n",
    "          silent = True,\n",
    "#           max_depth = params['max_depth'],\n",
    "#           max_bin = params['max_bin'],\n",
    "#           subsample_for_bin = params['subsample_for_bin'],\n",
    "#           subsample = params['subsample'],\n",
    "#           subsample_freq = params['subsample_freq'],\n",
    "#           min_split_gain = params['min_split_gain'],\n",
    "#           min_child_weight = params['min_child_weight'],\n",
    "#           min_child_samples = params['min_child_samples'],\n",
    "#           scale_pos_weight = params['scale_pos_weight']\n",
    "                        )\n",
    "mdl.get_params().keys()"
   ]
  },
  {
   "cell_type": "code",
   "execution_count": 26,
   "metadata": {},
   "outputs": [],
   "source": [
    "gridParams = {\n",
    "#     'learning_rate': [1,0.1,0.01],\n",
    "    'n_estimators': [64,128,256],\n",
    "#     'num_leaves': [50,100,150,200,250,300],\n",
    "#     'colsample_bytree' : [1,0.8,0.6],\n",
    "#     'subsample' : [1,0.8,0.6],\n",
    "#     'reg_alpha' : [10,3,1, 0.1],\n",
    "#     'reg_lambda' : [10,3,1, 0.1],\n",
    "    }"
   ]
  },
  {
   "cell_type": "code",
   "execution_count": 27,
   "metadata": {},
   "outputs": [
    {
     "name": "stdout",
     "output_type": "stream",
     "text": [
      "Fitting 4 folds for each of 3 candidates, totalling 12 fits\n"
     ]
    },
    {
     "name": "stderr",
     "output_type": "stream",
     "text": [
      "[Parallel(n_jobs=-1)]: Using backend LokyBackend with 12 concurrent workers.\n",
      "[Parallel(n_jobs=-1)]: Done   2 out of  12 | elapsed:   41.2s remaining:  3.4min\n",
      "[Parallel(n_jobs=-1)]: Done  12 out of  12 | elapsed:  2.2min finished\n"
     ]
    },
    {
     "name": "stdout",
     "output_type": "stream",
     "text": [
      "{'n_estimators': 128}\n",
      "0.5264412521171821\n"
     ]
    }
   ],
   "source": [
    "grid = GridSearchCV(mdl, gridParams, verbose=1, cv=4, n_jobs=-1, scoring='accuracy')\n",
    "grid.fit(test_x, test_y)\n",
    "\n",
    "print(grid.best_params_)\n",
    "print(grid.best_score_)"
   ]
  },
  {
   "cell_type": "code",
   "execution_count": 94,
   "metadata": {},
   "outputs": [
    {
     "name": "stderr",
     "output_type": "stream",
     "text": [
      "/home/haha/anaconda3/lib/python3.7/site-packages/lightgbm/engine.py:118: UserWarning: Found `n_estimators` in params. Will use it instead of argument\n",
      "  warnings.warn(\"Found `{}` in params. Will use it instead of argument\".format(alias))\n"
     ]
    },
    {
     "name": "stdout",
     "output_type": "stream",
     "text": [
      "Overall accuracy of Logistic Regression model: 0.6000878238504486\n"
     ]
    },
    {
     "data": {
      "image/png": "[encoded data removed]",
      "text/plain": [
       "<Figure size 432x288 with 1 Axes>"
      ]
     },
     "metadata": {
      "needs_background": "light"
     },
     "output_type": "display_data"
    },
    {
     "data": {
      "image/png": "[encoded data removed]",
      "text/plain": [
       "<Figure size 576x432 with 2 Axes>"
      ]
     },
     "metadata": {
      "needs_background": "light"
     },
     "output_type": "display_data"
    },
    {
     "name": "stdout",
     "output_type": "stream",
     "text": [
      "              precision    recall  f1-score   support\n",
      "\n",
      "     class 0       0.84      0.23      0.36       494\n",
      "     class 1       0.76      0.61      0.68      3141\n",
      "     class 2       0.61      0.68      0.65      4758\n",
      "     class 3       0.52      0.71      0.60      3903\n",
      "     class 4       0.52      0.50      0.51      2425\n",
      "     class 5       0.89      0.27      0.42      1220\n",
      "\n",
      "   micro avg       0.60      0.60      0.60     15941\n",
      "   macro avg       0.69      0.50      0.53     15941\n",
      "weighted avg       0.63      0.60      0.59     15941\n",
      "\n"
     ]
    },
    {
     "data": {
      "text/plain": [
       "<function sklearn.metrics.ranking.auc(x, y, reorder='deprecated')>"
      ]
     },
     "execution_count": 94,
     "metadata": {},
     "output_type": "execute_result"
    }
   ],
   "source": [
    "%matplotlib inline\n",
    "best_p = {'n_estimators': 128}\n",
    "\n",
    "lgbm = lgb.train(best_p, lgb.Dataset(test_x,label=test_y))\n",
    "\n",
    "predictions_lgbm_prob = lgbm.predict(test_x)\n",
    "predictions_lgbm_01 = [round(each) for each in predictions_lgbm_prob]\n",
    "\n",
    "acc_logit = accuracy_score(test_y, predictions_lgbm_01)\n",
    "print('Overall accuracy of Logistic Regression model:', acc_logit)\n",
    "\n",
    "lgb.plot_importance(lgbm, max_num_features=21, importance_type='split')\n",
    "print_confusion_matrix(test_y, predictions_lgbm_01)"
   ]
  },
  {
   "cell_type": "code",
   "execution_count": 61,
   "metadata": {},
   "outputs": [
    {
     "name": "stdout",
     "output_type": "stream",
     "text": [
      "(15941, 128)\n"
     ]
    },
    {
     "data": {
      "text/plain": [
       "31"
      ]
     },
     "execution_count": 61,
     "metadata": {},
     "output_type": "execute_result"
    }
   ],
   "source": [
    "y_pred = lgbm.predict(test_x, pred_leaf=True)\n",
    "print(y_pred.shape)\n",
    "num_leaf = max([max(each) for each in y_pred])+1\n",
    "num_leaf"
   ]
  },
  {
   "cell_type": "code",
   "execution_count": 62,
   "metadata": {},
   "outputs": [
    {
     "data": {
      "text/plain": [
       "array([22,  3, 10,  3,  8, 18, 12, 25,  7,  2, 18, 26,  1, 20, 19, 10, 24,\n",
       "        4,  7, 10, 20, 15, 12,  2,  0, 12,  5, 23, 18, 13, 11,  9, 11,  1,\n",
       "       15,  7,  9,  3,  7, 17, 29, 10, 30, 15, 14, 30, 17, 28,  3,  8,  1,\n",
       "       21, 20,  2,  6,  0, 18,  3,  2, 11, 28,  6, 20,  6,  3,  0,  2, 11,\n",
       "        6, 11,  5, 16, 24, 15,  5,  0, 10,  0, 16,  5, 29,  1,  0,  5,  0,\n",
       "        0,  0, 14, 28, 15,  0,  0,  0,  0, 10, 16, 20, 22, 21,  8,  9, 27,\n",
       "       30, 27, 14,  0,  0, 28, 14,  6,  0,  0,  0,  6,  0, 29,  0,  0,  0,\n",
       "        0,  0, 10,  0,  0,  0,  0,  0, 12], dtype=int32)"
      ]
     },
     "execution_count": 62,
     "metadata": {},
     "output_type": "execute_result"
    }
   ],
   "source": [
    "y_pred[0]"
   ]
  },
  {
   "cell_type": "code",
   "execution_count": 63,
   "metadata": {},
   "outputs": [
    {
     "name": "stdout",
     "output_type": "stream",
     "text": [
      "Writing transformed training data\n"
     ]
    }
   ],
   "source": [
    "print('Writing transformed training data')\n",
    "# num_leaf = grid.best_params_['num_leaves']\n",
    "transformed_training_matrix = np.zeros([len(y_pred), len(y_pred[0]) * num_leaf],\n",
    "                                       dtype=np.int64)  # N * num_tress * num_leafs\n",
    "for i in range(0, len(y_pred)):\n",
    "    temp = np.arange(len(y_pred[0])) * num_leaf + np.array(y_pred[i])\n",
    "#     print(temp)\n",
    "    transformed_training_matrix[i][temp] += 1"
   ]
  },
  {
   "cell_type": "code",
   "execution_count": 64,
   "metadata": {},
   "outputs": [
    {
     "name": "stdout",
     "output_type": "stream",
     "text": [
      "Writing transformed testing data\n"
     ]
    }
   ],
   "source": [
    "y_pred = lgbm.predict(test_x, pred_leaf=True)\n",
    "print('Writing transformed testing data')\n",
    "transformed_testing_matrix = np.zeros([len(y_pred), len(y_pred[0]) * num_leaf], dtype=np.int64)\n",
    "for i in range(0, len(y_pred)):\n",
    "    temp = np.arange(len(y_pred[0])) * num_leaf + np.array(y_pred[i])\n",
    "    transformed_testing_matrix[i][temp] += 1"
   ]
  },
  {
   "cell_type": "code",
   "execution_count": 65,
   "metadata": {},
   "outputs": [
    {
     "data": {
      "text/plain": [
       "((15941, 3968), (15941, 3968))"
      ]
     },
     "execution_count": 65,
     "metadata": {},
     "output_type": "execute_result"
    }
   ],
   "source": [
    "transformed_testing_matrix.shape,transformed_training_matrix.shape"
   ]
  },
  {
   "cell_type": "code",
   "execution_count": 78,
   "metadata": {},
   "outputs": [
    {
     "name": "stdout",
     "output_type": "stream",
     "text": [
      "Fitting 5 folds for each of 2 candidates, totalling 10 fits\n"
     ]
    },
    {
     "name": "stderr",
     "output_type": "stream",
     "text": [
      "[Parallel(n_jobs=-1)]: Using backend LokyBackend with 12 concurrent workers.\n",
      "[Parallel(n_jobs=-1)]: Done  10 out of  10 | elapsed:  4.4min finished\n"
     ]
    },
    {
     "name": "stdout",
     "output_type": "stream",
     "text": [
      "best params are: {'C': 1, 'class_weight': None}\n"
     ]
    },
    {
     "name": "stderr",
     "output_type": "stream",
     "text": [
      "/home/haha/anaconda3/lib/python3.7/site-packages/sklearn/linear_model/sag.py:334: ConvergenceWarning: The max_iter was reached which means the coef_ did not converge\n",
      "  \"the coef_ did not converge\", ConvergenceWarning)\n"
     ]
    }
   ],
   "source": [
    "lr = LogisticRegression(multi_class='multinomial',solver='sag',penalty='l2')\n",
    "C = [1]\n",
    "class_weight = ['balanced',None]\n",
    "param_gridknn = dict(C=C,class_weight=class_weight)\n",
    "gridLR = GridSearchCV(lr, param_gridknn, cv=5, scoring='accuracy',verbose=1, n_jobs=-1)\n",
    "gridLR.fit(transformed_training_matrix,test_y)\n",
    "print('best params are:',str(gridLR.best_params_))"
   ]
  },
  {
   "cell_type": "code",
   "execution_count": 85,
   "metadata": {},
   "outputs": [
    {
     "name": "stderr",
     "output_type": "stream",
     "text": [
      "/home/haha/anaconda3/lib/python3.7/site-packages/sklearn/linear_model/logistic.py:433: FutureWarning: Default solver will be changed to 'lbfgs' in 0.22. Specify a solver to silence this warning.\n",
      "  FutureWarning)\n",
      "/home/haha/anaconda3/lib/python3.7/site-packages/sklearn/linear_model/logistic.py:460: FutureWarning: Default multi_class will be changed to 'auto' in 0.22. Specify the multi_class option to silence this warning.\n",
      "  \"this warning.\", FutureWarning)\n"
     ]
    },
    {
     "name": "stdout",
     "output_type": "stream",
     "text": [
      "Overall accuracy of Logistic Regression model: 0.8524559312464713\n"
     ]
    },
    {
     "data": {
      "image/png": "[encoded data removed]",
      "text/plain": [
       "<Figure size 576x432 with 2 Axes>"
      ]
     },
     "metadata": {
      "needs_background": "light"
     },
     "output_type": "display_data"
    },
    {
     "name": "stdout",
     "output_type": "stream",
     "text": [
      "              precision    recall  f1-score   support\n",
      "\n",
      "     class 0       0.98      0.88      0.92       494\n",
      "     class 1       0.90      0.89      0.90      3141\n",
      "     class 2       0.81      0.87      0.84      4758\n",
      "     class 3       0.81      0.80      0.80      3903\n",
      "     class 4       0.88      0.82      0.85      2425\n",
      "     class 5       0.96      0.94      0.95      1220\n",
      "\n",
      "   micro avg       0.85      0.85      0.85     15941\n",
      "   macro avg       0.89      0.86      0.88     15941\n",
      "weighted avg       0.85      0.85      0.85     15941\n",
      "\n"
     ]
    },
    {
     "data": {
      "text/plain": [
       "<function sklearn.metrics.ranking.auc(x, y, reorder='deprecated')>"
      ]
     },
     "execution_count": 85,
     "metadata": {},
     "output_type": "execute_result"
    }
   ],
   "source": [
    "logreg = LogisticRegression(class_weight=None,C=1,penalty='l2')\n",
    "logreg.fit(transformed_training_matrix,test_y)\n",
    "\n",
    "predictions_LogReg_prob = logreg.predict_proba(transformed_testing_matrix)\n",
    "predictions_LogReg_prob = predictions_LogReg_prob[:,1]\n",
    "predictions_LogReg_01 = logreg.predict(transformed_testing_matrix)\n",
    "\n",
    "acc_logit = accuracy_score(test_y, predictions_LogReg_01)\n",
    "print('Overall accuracy of Logistic Regression model:', acc_logit)\n",
    "\n",
    "print_confusion_matrix(test_y, predictions_LogReg_01)"
   ]
  },
  {
   "cell_type": "code",
   "execution_count": null,
   "metadata": {},
   "outputs": [],
   "source": []
  }
 ],
 "metadata": {
  "kernelspec": {
   "display_name": "Python 3",
   "language": "python",
   "name": "python3"
  },
  "language_info": {
   "codemirror_mode": {
    "name": "ipython",
    "version": 3
   },
   "file_extension": ".py",
   "mimetype": "text/x-python",
   "name": "python",
   "nbconvert_exporter": "python",
   "pygments_lexer": "ipython3",
   "version": "3.7.3"
  }
 },
 "nbformat": 4,
 "nbformat_minor": 2
}
